{
 "cells": [
  {
   "cell_type": "code",
   "execution_count": 1,
   "metadata": {
    "id": "U0nOhi_BRpmM"
   },
   "outputs": [
    {
     "name": "stdout",
     "output_type": "stream",
     "text": [
      "Collecting Mastodon.py\n",
      "  Using cached Mastodon.py-1.8.1-py2.py3-none-any.whl (65 kB)\n",
      "Requirement already satisfied: six in /Users/epavlov/opt/anaconda3/lib/python3.8/site-packages (from Mastodon.py) (1.15.0)\n",
      "Collecting blurhash>=1.1.4\n",
      "  Using cached blurhash-1.1.4-py2.py3-none-any.whl (5.3 kB)\n",
      "Requirement already satisfied: decorator>=4.0.0 in /Users/epavlov/opt/anaconda3/lib/python3.8/site-packages (from Mastodon.py) (4.4.2)\n",
      "Requirement already satisfied: python-dateutil in /Users/epavlov/opt/anaconda3/lib/python3.8/site-packages (from Mastodon.py) (2.8.1)\n",
      "Collecting python-magic\n",
      "  Using cached python_magic-0.4.27-py2.py3-none-any.whl (13 kB)\n",
      "Requirement already satisfied: requests>=2.4.2 in /Users/epavlov/opt/anaconda3/lib/python3.8/site-packages (from Mastodon.py) (2.26.0)\n",
      "Requirement already satisfied: charset-normalizer~=2.0.0 in /Users/epavlov/opt/anaconda3/lib/python3.8/site-packages (from requests>=2.4.2->Mastodon.py) (2.0.9)\n",
      "Requirement already satisfied: urllib3<1.27,>=1.21.1 in /Users/epavlov/opt/anaconda3/lib/python3.8/site-packages (from requests>=2.4.2->Mastodon.py) (1.26.4)\n",
      "Requirement already satisfied: certifi>=2017.4.17 in /Users/epavlov/opt/anaconda3/lib/python3.8/site-packages (from requests>=2.4.2->Mastodon.py) (2021.5.30)\n",
      "Requirement already satisfied: idna<4,>=2.5 in /Users/epavlov/opt/anaconda3/lib/python3.8/site-packages (from requests>=2.4.2->Mastodon.py) (2.10)\n",
      "Installing collected packages: blurhash, python-magic, Mastodon.py\n",
      "Successfully installed Mastodon.py-1.8.1 blurhash-1.1.4 python-magic-0.4.27\n",
      "\n",
      "\u001b[1m[\u001b[0m\u001b[34;49mnotice\u001b[0m\u001b[1;39;49m]\u001b[0m\u001b[39;49m A new release of pip available: \u001b[0m\u001b[31;49m22.1.2\u001b[0m\u001b[39;49m -> \u001b[0m\u001b[32;49m23.1.2\u001b[0m\n",
      "\u001b[1m[\u001b[0m\u001b[34;49mnotice\u001b[0m\u001b[1;39;49m]\u001b[0m\u001b[39;49m To update, run: \u001b[0m\u001b[32;49mpip install --upgrade pip\u001b[0m\n",
      "Note: you may need to restart the kernel to use updated packages.\n"
     ]
    }
   ],
   "source": [
    "pip install Mastodon.py"
   ]
  },
  {
   "cell_type": "code",
   "execution_count": null,
   "metadata": {
    "id": "qOOJjbYrGTyy"
   },
   "outputs": [],
   "source": [
    "pip install pytube"
   ]
  },
  {
   "cell_type": "code",
   "execution_count": 2,
   "metadata": {
    "id": "UKHGbaPRLubW"
   },
   "outputs": [
    {
     "name": "stdout",
     "output_type": "stream",
     "text": [
      "Requirement already satisfied: beautifulsoup4 in /Users/epavlov/opt/anaconda3/lib/python3.8/site-packages (4.9.3)\n",
      "Requirement already satisfied: soupsieve>1.2 in /Users/epavlov/opt/anaconda3/lib/python3.8/site-packages (from beautifulsoup4) (2.2.1)\n",
      "\n",
      "\u001b[1m[\u001b[0m\u001b[34;49mnotice\u001b[0m\u001b[1;39;49m]\u001b[0m\u001b[39;49m A new release of pip available: \u001b[0m\u001b[31;49m22.1.2\u001b[0m\u001b[39;49m -> \u001b[0m\u001b[32;49m23.1.2\u001b[0m\n",
      "\u001b[1m[\u001b[0m\u001b[34;49mnotice\u001b[0m\u001b[1;39;49m]\u001b[0m\u001b[39;49m To update, run: \u001b[0m\u001b[32;49mpip install --upgrade pip\u001b[0m\n",
      "Note: you may need to restart the kernel to use updated packages.\n"
     ]
    }
   ],
   "source": [
    "pip install beautifulsoup4"
   ]
  },
  {
   "cell_type": "code",
   "execution_count": 4,
   "metadata": {
    "id": "The9SlLIVCSw"
   },
   "outputs": [],
   "source": [
    "import mastodon\n",
    "from mastodon import Mastodon\n",
    "from pytube import YouTube\n",
    "from bs4 import BeautifulSoup\n",
    "import re\n",
    "import requests\n",
    "import urllib\n"
   ]
  },
  {
   "cell_type": "markdown",
   "metadata": {
    "id": "1BLPnGUtIF4d"
   },
   "source": [
    "# Log in to Mastodon"
   ]
  },
  {
   "cell_type": "code",
   "execution_count": 5,
   "metadata": {
    "id": "zAkbbyz8V0Vz"
   },
   "outputs": [
    {
     "data": {
      "text/plain": [
       "('LQ5OWjSAY98wmQj692ThZYVmjsjG8POtQda0YvHcnEM',\n",
       " 'x3c0ccSrguNKvj_BCiLo9gam49UYTI2BIu7q2tgdsZE')"
      ]
     },
     "execution_count": 5,
     "metadata": {},
     "output_type": "execute_result"
    }
   ],
   "source": [
    "# creates an app for mastodon social\n",
    "Mastodon.create_app(\n",
    "    'hack-posttoots',\n",
    "    api_base_url = 'https://mastodon.social',\n",
    "    scopes=['read', 'write'],\n",
    "    to_file = '.secrets'\n",
    ")"
   ]
  },
  {
   "cell_type": "code",
   "execution_count": 6,
   "metadata": {
    "id": "55OfrakCYOiv"
   },
   "outputs": [],
   "source": [
    "# saves secrets\n",
    "mastodon = Mastodon (\n",
    "    client_id = '.secrets',\n",
    ")"
   ]
  },
  {
   "cell_type": "code",
   "execution_count": 12,
   "metadata": {
    "id": "UrFuk7FaYiWl"
   },
   "outputs": [],
   "source": [
    "# requires an existing login\n",
    "\n",
    "username = '<EMAIL>'\n",
    "password = '<PASSWORD>'\n",
    "\n",
    "mastodon.access_token = mastodon.log_in (\n",
    "  username = username,\n",
    "  password = password,\n",
    "  scopes = ['read', 'write']\n",
    ")\n",
    "account = mastodon.me()"
   ]
  },
  {
   "cell_type": "code",
   "execution_count": 34,
   "metadata": {
    "id": "EJj-kVMgYver"
   },
   "outputs": [],
   "source": [
    "# some methods for posting and grabbing toot posted on your timeline\n",
    "\n",
    "# post_toot = mastodon.status_post('Tooting from the command line!')\n",
    "# toot_status = mastodon.status(post_toot.id)\n",
    "# mastodon.status_delete(id)\n",
    "# statuses = mastodon.account_statuses(id=account.id)"
   ]
  },
  {
   "cell_type": "markdown",
   "metadata": {
    "id": "ai0jyix6Igv2"
   },
   "source": [
    "# Mastodon parsing"
   ]
  },
  {
   "cell_type": "code",
   "execution_count": 21,
   "metadata": {
    "id": "Le0OX26HLOmL"
   },
   "outputs": [],
   "source": [
    "# helpers to parse mastodon payload\n",
    "def youtube_url_validation(url):\n",
    "    youtube_regex = (\n",
    "        r'(https?://)?(www\\.)?'\n",
    "        '(youtube|youtu|youtube-nocookie)\\.(com|be)/'\n",
    "        '(watch\\?v=|embed/|v/|.+\\?v=)?([^&=%\\?]{11})')\n",
    "\n",
    "    youtube_regex_match = re.match(youtube_regex, url)\n",
    "    if youtube_regex_match:\n",
    "        return youtube_regex_match\n",
    "\n",
    "    return youtube_regex_match\n",
    "\n",
    "\n",
    "def image_validation(filename):\n",
    "  image_regex = (r'(.*)(\\w+)(.gif|.jpg|.jpeg|.tiff|.png)')\n",
    "  image_regex_match = re.match(image_regex, filename)\n",
    "  if image_regex_match:\n",
    "    return image_regex_match\n",
    "  return image_regex_match\n",
    "\n",
    "def video_validation(filename):\n",
    "  video_regex = (r'(.*)(\\w+)\\.mp4')\n",
    "  video_regex_match = re.match(video_regex, filename)\n",
    "  if video_regex_match:\n",
    "    return video_regex_match\n",
    "  return video_regex_match\n",
    "\n",
    "def grab_video_link(link):\n",
    "  if video_validation(link):\n",
    "    return link\n",
    "  return None\n",
    "\n",
    "def grab_image_link(link):\n",
    "  if image_validation(link):\n",
    "    return link\n",
    "  return None\n",
    "\n",
    "def grab_youtube_link(link):\n",
    "  if youtube_url_validation(link):\n",
    "    return link\n",
    "  return None\n",
    "\n",
    "\n",
    "def grab_links(status_obj):\n",
    "  image_urls = []\n",
    "  video_urls = []\n",
    "  youtube_urls = []\n",
    "  all_urls = []\n",
    "\n",
    "  for media_attachment in status_obj['media_attachments']:\n",
    "    all_urls.append(media_attachment['url'])\n",
    "    p_image_url = grab_image_link(media_attachment['url'])\n",
    "    if p_image_url:\n",
    "      image_urls.append(p_image_url)\n",
    "\n",
    "    p_video_url = grab_video_link(media_attachment['url'])\n",
    "    if p_video_url:\n",
    "      video_urls.append(p_video_url)\n",
    "\n",
    "  soup = BeautifulSoup(status_obj['content'])\n",
    "  for a_tag in soup.findAll('a'):\n",
    "    p_youtube_url = grab_video_link(a_tag.get('href'))\n",
    "    if p_youtube_url:\n",
    "      youtube_urls.append(p_youtube_url)\n",
    "  url_dict = {\n",
    "      'image_urls': image_urls,\n",
    "      'video_urls': video_urls,\n",
    "      'youtue_urls': youtube_urls,\n",
    "      'all_urls': all_urls \n",
    "  }\n",
    "  return url_dict"
   ]
  },
  {
   "cell_type": "code",
   "execution_count": 12,
   "metadata": {
    "id": "CIMyHSkR6S82"
   },
   "outputs": [],
   "source": [
    "# grab media only from\n",
    "public_statuses = mastodon.timeline_public(only_media=True)"
   ]
  },
  {
   "cell_type": "code",
   "execution_count": null,
   "metadata": {},
   "outputs": [],
   "source": [
    "public_statuses"
   ]
  },
  {
   "cell_type": "code",
   "execution_count": 17,
   "metadata": {},
   "outputs": [],
   "source": [
    "public_statuses = mastodon.timeline_hashtag('video', limit=100, only_media=True)"
   ]
  },
  {
   "cell_type": "code",
   "execution_count": 22,
   "metadata": {
    "id": "0JsgcrrQ6_WM"
   },
   "outputs": [
    {
     "name": "stdout",
     "output_type": "stream",
     "text": [
      "<built-in function id> {'image_urls': ['https://files.mastodon.social/cache/media_attachments/files/110/623/198/254/430/859/original/f4c40bde29923a03.jpg'], 'video_urls': [], 'youtue_urls': [], 'all_urls': ['https://files.mastodon.social/cache/media_attachments/files/110/623/198/254/430/859/original/f4c40bde29923a03.jpg']}\n",
      "<built-in function id> {'image_urls': ['https://files.mastodon.social/cache/media_attachments/files/110/623/190/286/806/830/original/c8453435a938325f.jpg'], 'video_urls': [], 'youtue_urls': [], 'all_urls': ['https://files.mastodon.social/cache/media_attachments/files/110/623/190/286/806/830/original/c8453435a938325f.jpg']}\n",
      "<built-in function id> {'image_urls': ['https://files.mastodon.social/cache/media_attachments/files/110/622/965/509/611/727/original/3b605550a80a5473.jpg'], 'video_urls': [], 'youtue_urls': [], 'all_urls': ['https://files.mastodon.social/cache/media_attachments/files/110/622/965/509/611/727/original/3b605550a80a5473.jpg']}\n",
      "<built-in function id> {'image_urls': ['https://files.mastodon.social/cache/media_attachments/files/110/622/730/588/569/897/original/68c8fb7bb100d42b.jpg'], 'video_urls': [], 'youtue_urls': [], 'all_urls': ['https://files.mastodon.social/cache/media_attachments/files/110/622/730/588/569/897/original/68c8fb7bb100d42b.jpg']}\n",
      "<built-in function id> {'image_urls': ['https://files.mastodon.social/media_attachments/files/110/622/694/666/730/595/original/872700179ef0ff29.png'], 'video_urls': [], 'youtue_urls': [], 'all_urls': ['https://files.mastodon.social/media_attachments/files/110/622/694/666/730/595/original/872700179ef0ff29.png']}\n",
      "<built-in function id> {'image_urls': ['https://files.mastodon.social/cache/media_attachments/files/110/622/659/514/354/107/original/6e76ff6cc48d537b.jpg'], 'video_urls': [], 'youtue_urls': [], 'all_urls': ['https://files.mastodon.social/cache/media_attachments/files/110/622/659/514/354/107/original/6e76ff6cc48d537b.jpg']}\n",
      "<built-in function id> {'image_urls': ['https://files.mastodon.social/cache/media_attachments/files/110/622/655/727/989/214/original/ad980b316f0d6b5e.jpg'], 'video_urls': [], 'youtue_urls': [], 'all_urls': ['https://files.mastodon.social/cache/media_attachments/files/110/622/655/727/989/214/original/ad980b316f0d6b5e.jpg']}\n",
      "<built-in function id> {'image_urls': [], 'video_urls': ['https://files.mastodon.social/cache/media_attachments/files/110/622/624/711/150/638/original/b095e472a010382b.mp4'], 'youtue_urls': [], 'all_urls': ['https://files.mastodon.social/cache/media_attachments/files/110/622/624/711/150/638/original/b095e472a010382b.mp4']}\n",
      "<built-in function id> {'image_urls': [], 'video_urls': ['https://files.mastodon.social/cache/media_attachments/files/110/622/374/346/588/313/original/eec7e08bf836360e.mp4'], 'youtue_urls': [], 'all_urls': ['https://files.mastodon.social/cache/media_attachments/files/110/622/374/346/588/313/original/eec7e08bf836360e.mp4']}\n",
      "<built-in function id> {'image_urls': ['https://files.mastodon.social/media_attachments/files/110/622/159/887/913/076/original/c94a9b7b7dcf51e4.png'], 'video_urls': [], 'youtue_urls': [], 'all_urls': ['https://files.mastodon.social/media_attachments/files/110/622/159/887/913/076/original/c94a9b7b7dcf51e4.png']}\n",
      "<built-in function id> {'image_urls': ['https://files.mastodon.social/cache/media_attachments/files/110/622/124/815/009/718/original/dd0363c6ccebc361.jpg'], 'video_urls': [], 'youtue_urls': [], 'all_urls': ['https://files.mastodon.social/cache/media_attachments/files/110/622/124/815/009/718/original/dd0363c6ccebc361.jpg']}\n",
      "<built-in function id> {'image_urls': ['https://files.mastodon.social/cache/media_attachments/files/110/622/046/247/345/893/original/b291252df3c7d011.jpeg'], 'video_urls': [], 'youtue_urls': [], 'all_urls': ['https://files.mastodon.social/cache/media_attachments/files/110/622/046/247/345/893/original/b291252df3c7d011.jpeg']}\n",
      "<built-in function id> {'image_urls': [], 'video_urls': ['https://files.mastodon.social/cache/media_attachments/files/110/621/976/638/832/529/original/fa2387eb4fc23b50.mp4'], 'youtue_urls': [], 'all_urls': ['https://files.mastodon.social/cache/media_attachments/files/110/621/976/638/832/529/original/fa2387eb4fc23b50.mp4']}\n",
      "<built-in function id> {'image_urls': ['https://files.mastodon.social/cache/media_attachments/files/110/621/879/417/344/349/original/11d00bc9f35dfa7b.jpeg'], 'video_urls': [], 'youtue_urls': [], 'all_urls': ['https://files.mastodon.social/cache/media_attachments/files/110/621/879/417/344/349/original/11d00bc9f35dfa7b.jpeg']}\n",
      "<built-in function id> {'image_urls': [], 'video_urls': ['https://files.mastodon.social/media_attachments/files/110/621/798/440/943/113/original/01fa9a434fa01e3e.mp4'], 'youtue_urls': [], 'all_urls': ['https://files.mastodon.social/media_attachments/files/110/621/798/440/943/113/original/01fa9a434fa01e3e.mp4']}\n",
      "<built-in function id> {'image_urls': ['https://files.mastodon.social/cache/media_attachments/files/110/621/590/222/419/129/original/ffa287eed84835dc.jpg'], 'video_urls': [], 'youtue_urls': [], 'all_urls': ['https://files.mastodon.social/cache/media_attachments/files/110/621/590/222/419/129/original/ffa287eed84835dc.jpg']}\n",
      "<built-in function id> {'image_urls': ['https://files.mastodon.social/cache/media_attachments/files/110/621/055/221/031/460/original/1167ff14507cab84.jpg'], 'video_urls': [], 'youtue_urls': [], 'all_urls': ['https://files.mastodon.social/cache/media_attachments/files/110/621/055/221/031/460/original/1167ff14507cab84.jpg']}\n",
      "<built-in function id> {'image_urls': ['https://files.mastodon.social/cache/media_attachments/files/110/621/039/447/418/414/original/3bd26ca4faf4b6be.png'], 'video_urls': [], 'youtue_urls': [], 'all_urls': ['https://files.mastodon.social/cache/media_attachments/files/110/621/039/447/418/414/original/3bd26ca4faf4b6be.png']}\n",
      "<built-in function id> {'image_urls': ['https://files.mastodon.social/media_attachments/files/110/620/876/546/980/843/original/66470604166e8ab5.jpeg'], 'video_urls': [], 'youtue_urls': [], 'all_urls': ['https://files.mastodon.social/media_attachments/files/110/620/876/546/980/843/original/66470604166e8ab5.jpeg']}\n",
      "<built-in function id> {'image_urls': ['https://files.mastodon.social/cache/media_attachments/files/110/620/520/390/523/621/original/01ee9546a2c71260.jpg'], 'video_urls': [], 'youtue_urls': [], 'all_urls': ['https://files.mastodon.social/cache/media_attachments/files/110/620/520/390/523/621/original/01ee9546a2c71260.jpg']}\n",
      "<built-in function id> {'image_urls': ['https://files.mastodon.social/cache/media_attachments/files/110/620/508/467/303/512/original/d7e86a42c28f2d1e.jpg'], 'video_urls': [], 'youtue_urls': [], 'all_urls': ['https://files.mastodon.social/cache/media_attachments/files/110/620/508/467/303/512/original/d7e86a42c28f2d1e.jpg']}\n",
      "<built-in function id> {'image_urls': ['https://files.mastodon.social/cache/media_attachments/files/110/620/465/381/890/945/original/fe514d87749e8e34.jpeg'], 'video_urls': [], 'youtue_urls': [], 'all_urls': ['https://files.mastodon.social/cache/media_attachments/files/110/620/465/381/890/945/original/fe514d87749e8e34.jpeg']}\n",
      "<built-in function id> {'image_urls': ['https://files.mastodon.social/cache/media_attachments/files/110/620/311/963/998/393/original/3ea4fde3890d9cb3.png'], 'video_urls': [], 'youtue_urls': [], 'all_urls': ['https://files.mastodon.social/cache/media_attachments/files/110/620/311/963/998/393/original/3ea4fde3890d9cb3.png']}\n",
      "<built-in function id> {'image_urls': [], 'video_urls': [], 'youtue_urls': [], 'all_urls': ['https://files.mastodon.social/cache/media_attachments/files/110/620/307/609/573/517/original/b503bd75e51c8acf.webp']}\n",
      "<built-in function id> {'image_urls': ['https://files.mastodon.social/cache/media_attachments/files/110/620/136/406/371/210/original/9df1cc29f5024c0f.jpeg'], 'video_urls': [], 'youtue_urls': [], 'all_urls': ['https://files.mastodon.social/cache/media_attachments/files/110/620/136/406/371/210/original/9df1cc29f5024c0f.jpeg']}\n",
      "<built-in function id> {'image_urls': ['https://files.mastodon.social/cache/media_attachments/files/110/619/985/803/588/565/original/4f864e3f111a22b5.jpg'], 'video_urls': [], 'youtue_urls': [], 'all_urls': ['https://files.mastodon.social/cache/media_attachments/files/110/619/985/803/588/565/original/4f864e3f111a22b5.jpg']}\n",
      "<built-in function id> {'image_urls': ['https://files.mastodon.social/cache/media_attachments/files/110/619/899/291/671/436/original/bbdb5a77ea43013b.jpg'], 'video_urls': [], 'youtue_urls': [], 'all_urls': ['https://files.mastodon.social/cache/media_attachments/files/110/619/899/291/671/436/original/bbdb5a77ea43013b.jpg']}\n",
      "<built-in function id> {'image_urls': ['https://files.mastodon.social/cache/media_attachments/files/110/619/840/379/550/433/original/4572b03165acd200.jpg'], 'video_urls': [], 'youtue_urls': [], 'all_urls': ['https://files.mastodon.social/cache/media_attachments/files/110/619/840/379/550/433/original/4572b03165acd200.jpg']}\n",
      "<built-in function id> {'image_urls': ['https://files.mastodon.social/cache/media_attachments/files/110/619/446/941/969/418/original/506d885a05c6af7f.jpg'], 'video_urls': [], 'youtue_urls': [], 'all_urls': ['https://files.mastodon.social/cache/media_attachments/files/110/619/446/941/969/418/original/506d885a05c6af7f.jpg']}\n",
      "<built-in function id> {'image_urls': ['https://files.mastodon.social/cache/media_attachments/files/110/619/435/103/945/029/original/81ffd851b4770a5f.jpg'], 'video_urls': [], 'youtue_urls': [], 'all_urls': ['https://files.mastodon.social/cache/media_attachments/files/110/619/435/103/945/029/original/81ffd851b4770a5f.jpg']}\n",
      "<built-in function id> {'image_urls': ['https://files.mastodon.social/cache/media_attachments/files/110/619/310/662/914/135/original/491bb46755aa4875.jpg'], 'video_urls': [], 'youtue_urls': [], 'all_urls': ['https://files.mastodon.social/cache/media_attachments/files/110/619/310/662/914/135/original/491bb46755aa4875.jpg']}\n",
      "<built-in function id> {'image_urls': ['https://files.mastodon.social/cache/media_attachments/files/110/618/908/201/810/368/original/ea5c55c10f992e12.jpg'], 'video_urls': [], 'youtue_urls': [], 'all_urls': ['https://files.mastodon.social/cache/media_attachments/files/110/618/908/201/810/368/original/ea5c55c10f992e12.jpg']}\n",
      "<built-in function id> {'image_urls': ['https://files.mastodon.social/cache/media_attachments/files/110/618/900/264/656/071/original/c23fe81ae27d5d59.jpg'], 'video_urls': [], 'youtue_urls': [], 'all_urls': ['https://files.mastodon.social/cache/media_attachments/files/110/618/900/264/656/071/original/c23fe81ae27d5d59.jpg']}\n",
      "<built-in function id> {'image_urls': ['https://files.mastodon.social/media_attachments/files/110/618/746/919/757/232/original/552492feb5413cac.jpeg'], 'video_urls': [], 'youtue_urls': [], 'all_urls': ['https://files.mastodon.social/media_attachments/files/110/618/746/919/757/232/original/552492feb5413cac.jpeg']}\n",
      "<built-in function id> {'image_urls': ['https://files.mastodon.social/cache/media_attachments/files/110/618/369/505/042/322/original/07e55dd0014979b1.jpg'], 'video_urls': [], 'youtue_urls': [], 'all_urls': ['https://files.mastodon.social/cache/media_attachments/files/110/618/369/505/042/322/original/07e55dd0014979b1.jpg']}\n",
      "<built-in function id> {'image_urls': ['https://files.mastodon.social/cache/media_attachments/files/110/618/361/581/685/491/original/affd2cd5219aca88.jpg'], 'video_urls': [], 'youtue_urls': [], 'all_urls': ['https://files.mastodon.social/cache/media_attachments/files/110/618/361/581/685/491/original/affd2cd5219aca88.jpg']}\n",
      "<built-in function id> {'image_urls': [], 'video_urls': ['https://files.mastodon.social/cache/media_attachments/files/110/618/313/632/798/635/original/985aa16875f38806.mp4'], 'youtue_urls': [], 'all_urls': ['https://files.mastodon.social/cache/media_attachments/files/110/618/313/632/798/635/original/985aa16875f38806.mp4']}\n",
      "<built-in function id> {'image_urls': ['https://files.mastodon.social/cache/media_attachments/files/110/617/970/653/515/609/original/714cebf6119697a9.jpg'], 'video_urls': [], 'youtue_urls': [], 'all_urls': ['https://files.mastodon.social/cache/media_attachments/files/110/617/970/653/515/609/original/714cebf6119697a9.jpg']}\n",
      "<built-in function id> {'image_urls': [], 'video_urls': ['https://files.mastodon.social/cache/media_attachments/files/110/617/883/038/077/627/original/aa55733960a9ad09.mp4'], 'youtue_urls': [], 'all_urls': ['https://files.mastodon.social/cache/media_attachments/files/110/617/883/038/077/627/original/aa55733960a9ad09.mp4']}\n",
      "<built-in function id> {'image_urls': ['https://files.mastodon.social/cache/media_attachments/files/110/617/815/153/439/196/original/edc7d02a6d2f3b0a.jpg'], 'video_urls': [], 'youtue_urls': [], 'all_urls': ['https://files.mastodon.social/cache/media_attachments/files/110/617/815/153/439/196/original/edc7d02a6d2f3b0a.jpg']}\n"
     ]
    }
   ],
   "source": [
    "for ps in public_statuses:\n",
    "  print(id, grab_links(ps))"
   ]
  },
  {
   "cell_type": "code",
   "execution_count": null,
   "metadata": {
    "id": "QQlAQ5fJAmGt"
   },
   "outputs": [],
   "source": []
  }
 ],
 "metadata": {
  "colab": {
   "provenance": []
  },
  "kernelspec": {
   "display_name": "Python 3",
   "language": "python",
   "name": "python3"
  },
  "language_info": {
   "codemirror_mode": {
    "name": "ipython",
    "version": 3
   },
   "file_extension": ".py",
   "mimetype": "text/x-python",
   "name": "python",
   "nbconvert_exporter": "python",
   "pygments_lexer": "ipython3",
   "version": "3.8.5"
  }
 },
 "nbformat": 4,
 "nbformat_minor": 4
}
