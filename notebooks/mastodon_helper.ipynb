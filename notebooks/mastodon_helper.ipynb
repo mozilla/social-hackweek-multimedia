{
  "nbformat": 4,
  "nbformat_minor": 0,
  "metadata": {
    "colab": {
      "provenance": []
    },
    "kernelspec": {
      "name": "python3",
      "display_name": "Python 3"
    },
    "language_info": {
      "name": "python"
    }
  },
  "cells": [
    {
      "cell_type": "code",
      "execution_count": null,
      "metadata": {
        "id": "U0nOhi_BRpmM"
      },
      "outputs": [],
      "source": [
        "pip install Mastodon.py"
      ]
    },
    {
      "cell_type": "code",
      "source": [
        "pip install pytube"
      ],
      "metadata": {
        "id": "qOOJjbYrGTyy"
      },
      "execution_count": null,
      "outputs": []
    },
    {
      "cell_type": "code",
      "source": [
        "pip install beautifulsoup4"
      ],
      "metadata": {
        "id": "UKHGbaPRLubW"
      },
      "execution_count": null,
      "outputs": []
    },
    {
      "cell_type": "code",
      "source": [
        "import mastodon\n",
        "from mastodon import Mastodon\n",
        "from pytube import YouTube\n",
        "from bs4 import BeautifulSoup\n",
        "import re\n",
        "import requests\n",
        "import urllib\n"
      ],
      "metadata": {
        "id": "The9SlLIVCSw"
      },
      "execution_count": 9,
      "outputs": []
    },
    {
      "cell_type": "markdown",
      "source": [
        "# Log in to Mastodon"
      ],
      "metadata": {
        "id": "1BLPnGUtIF4d"
      }
    },
    {
      "cell_type": "code",
      "source": [
        "# creates an app for mastodon social\n",
        "Mastodon.create_app(\n",
        "    'hack-posttoots',\n",
        "    api_base_url = 'https://mastodon.social',\n",
        "    scopes=['read', 'write'],\n",
        "    to_file = '.secrets'\n",
        ")"
      ],
      "metadata": {
        "id": "zAkbbyz8V0Vz"
      },
      "execution_count": null,
      "outputs": []
    },
    {
      "cell_type": "code",
      "source": [
        "# saves secrets\n",
        "mastodon = Mastodon (\n",
        "    client_id = '.secrets',\n",
        ")"
      ],
      "metadata": {
        "id": "55OfrakCYOiv"
      },
      "execution_count": 11,
      "outputs": []
    },
    {
      "cell_type": "code",
      "source": [
        "# requires an existing login\n",
        "\n",
        "username = '<EMAIL>'\n",
        "password = '<PASSWORD>'\n",
        "\n",
        "mastodon.access_token = mastodon.log_in (\n",
        "  username = username,\n",
        "  password = password,\n",
        "  scopes = ['read', 'write']\n",
        ")\n",
        "account = mastodon.me()"
      ],
      "metadata": {
        "id": "UrFuk7FaYiWl"
      },
      "execution_count": 12,
      "outputs": []
    },
    {
      "cell_type": "code",
      "source": [
        "# some methods for posting and grabbing toot posted on your timeline\n",
        "\n",
        "# post_toot = mastodon.status_post('Tooting from the command line!')\n",
        "# toot_status = mastodon.status(post_toot.id)\n",
        "# mastodon.status_delete(id)\n",
        "# statuses = mastodon.account_statuses(id=account.id)"
      ],
      "metadata": {
        "id": "EJj-kVMgYver"
      },
      "execution_count": 34,
      "outputs": []
    },
    {
      "cell_type": "markdown",
      "source": [
        "# Mastodon parsing"
      ],
      "metadata": {
        "id": "ai0jyix6Igv2"
      }
    },
    {
      "cell_type": "code",
      "source": [
        "# helpers to parse mastodon payload\n",
        "\n",
        "def youtube_url_validation(url):\n",
        "    youtube_regex = (\n",
        "        r'(https?://)?(www\\.)?'\n",
        "        '(youtube|youtu|youtube-nocookie)\\.(com|be)/'\n",
        "        '(watch\\?v=|embed/|v/|.+\\?v=)?([^&=%\\?]{11})')\n",
        "\n",
        "    youtube_regex_match = re.match(youtube_regex, url)\n",
        "    if youtube_regex_match:\n",
        "        return youtube_regex_match\n",
        "\n",
        "    return youtube_regex_match\n",
        "\n",
        "def image_validation(filename):\n",
        "  image_regex = (r'(.*)(\\w+)(.gif|.jpg|.jpeg|.tiff|.png)')\n",
        "  image_regex_match = re.match(image_regex, filename)\n",
        "  if image_regex_match:\n",
        "    return image_regex_match\n",
        "  return image_regex_match\n",
        "\n",
        "def grab_image_link(link):\n",
        "  if image_validation(link):\n",
        "    return link\n",
        "  return None\n",
        "\n",
        "def grab_video_link(link):\n",
        "  if youtube_url_validation(link):\n",
        "    return link\n",
        "  return None\n",
        "\n",
        "def grab_links(status_obj):\n",
        "  image_urls = []\n",
        "  video_urls = []\n",
        "  for media_attachment in status_obj['media_attachments']:\n",
        "    p_image_url = grab_image_link(media_attachment['url'])\n",
        "    if p_image_url:\n",
        "      image_urls.append(p_image_url)\n",
        "\n",
        "  soup = BeautifulSoup(status_obj['content'])\n",
        "  for a_tag in soup.findAll('a'):\n",
        "    p_video_url = grab_video_link(a_tag.get('href'))\n",
        "    if p_video_url:\n",
        "      video_urls.append(p_video_url)\n",
        "  url_dict = {\n",
        "      'image_urls': image_urls,\n",
        "      'video_urls': video_urls\n",
        "  }\n",
        "  return url_dict\n",
        "\n",
        "def download_image(link, image_name):\n",
        "  img_data = requests.get(link).content\n",
        "  with open(f'./{image_name}.jpg', 'wb') as handler:\n",
        "      handler.write(img_data)\n",
        "  return"
      ],
      "metadata": {
        "id": "Le0OX26HLOmL"
      },
      "execution_count": 15,
      "outputs": []
    },
    {
      "cell_type": "code",
      "source": [
        "# grab media only from\n",
        "public_statuses = mastodon.timeline_public(only_media=True)"
      ],
      "metadata": {
        "id": "CIMyHSkR6S82"
      },
      "execution_count": 20,
      "outputs": []
    },
    {
      "cell_type": "code",
      "source": [
        "for ps in public_statuses:\n",
        "  print(id, grab_links(ps))"
      ],
      "metadata": {
        "id": "0JsgcrrQ6_WM"
      },
      "execution_count": null,
      "outputs": []
    },
    {
      "cell_type": "code",
      "source": [],
      "metadata": {
        "id": "QQlAQ5fJAmGt"
      },
      "execution_count": null,
      "outputs": []
    }
  ]
}